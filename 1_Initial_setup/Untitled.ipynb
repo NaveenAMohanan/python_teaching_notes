{
 "cells": [
  {
   "cell_type": "markdown",
   "metadata": {},
   "source": [
    "Basic initial setup to run and code in windows.\n",
    "Basic includes \n",
    "\n",
    "**Steps:**\n",
    "* Fork directory : https://github.com/NaveenAMohanan/python_teaching_notes\n",
    "* Clone directory to the desired location on local machine\n",
    "* Download python and install only for current user \n",
    "* Use pip install vertualenv\n",
    "* Activate venv and use pip intall -r to install all dependencies \n",
    "* use the below code to setup a single click bash launcher \n",
    "\n",
    "` click_me_to_run.bash `\n",
    "\n",
    ">`call venv\\Scripts\\activate.bat\n",
    "python -m jupyter notebook\n",
    "pause`"
   ]
  },
  {
   "cell_type": "markdown",
   "metadata": {},
   "source": [
    "# Resources : \n",
    "* https://uoa-eresearch.github.io/eresearch-cookbook/recipe/2014/11/26/python-virtual-env/\n",
    "* https://www.markdownguide.org/basic-syntax/"
   ]
  },
  {
   "cell_type": "code",
   "execution_count": null,
   "metadata": {},
   "outputs": [],
   "source": []
  }
 ],
 "metadata": {
  "kernelspec": {
   "display_name": "Python 3",
   "language": "python",
   "name": "python3"
  },
  "language_info": {
   "codemirror_mode": {
    "name": "ipython",
    "version": 3
   },
   "file_extension": ".py",
   "mimetype": "text/x-python",
   "name": "python",
   "nbconvert_exporter": "python",
   "pygments_lexer": "ipython3",
   "version": "3.7.7"
  }
 },
 "nbformat": 4,
 "nbformat_minor": 4
}
