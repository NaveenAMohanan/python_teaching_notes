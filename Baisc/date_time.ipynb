{
 "cells": [
  {
   "cell_type": "markdown",
   "metadata": {},
   "source": [
    "# Date time"
   ]
  },
  {
   "cell_type": "code",
   "execution_count": 1,
   "metadata": {},
   "outputs": [],
   "source": [
    "import datetime"
   ]
  },
  {
   "cell_type": "code",
   "execution_count": 2,
   "metadata": {},
   "outputs": [],
   "source": [
    "# strptime means string parser, this will convert a string format to datetime.\n",
    "# strftime means string formatter, this will format a datetime object to string format."
   ]
  },
  {
   "cell_type": "markdown",
   "metadata": {},
   "source": [
    "| Code | Meaning                                                                                                                                                                          | Example                  |\n",
    "|------|----------------------------------------------------------------------------------------------------------------------------------------------------------------------------------|--------------------------|\n",
    "| %a   | Weekday as locale’s abbreviated name.                                                                                                                                            | Mon                      |\n",
    "| %A   | Weekday as locale’s full name.                                                                                                                                                   | Monday                   |\n",
    "| %w   | Weekday as a decimal number, where 0 is Sunday and 6 is Saturday.                                                                                                                | 1                        |\n",
    "| %d   | Day of the month as a zero-padded decimal number.                                                                                                                                | 30                       |\n",
    "| %-d  | Day of the month as a decimal number. (Platform specific)                                                                                                                        | 30                       |\n",
    "| %b   | Month as locale’s abbreviated name.                                                                                                                                              | Sep                      |\n",
    "| %B   | Month as locale’s full name.                                                                                                                                                     | September                |\n",
    "| %m   | Month as a zero-padded decimal number.                                                                                                                                           | 9                        |\n",
    "| %-m  | Month as a decimal number. (Platform specific)                                                                                                                                   | 9                        |\n",
    "| %y   | Year without century as a zero-padded decimal number.                                                                                                                            | 13                       |\n",
    "| %Y   | Year with century as a decimal number.                                                                                                                                           | 2013                     |\n",
    "| %H   | Hour (24-hour clock) as a zero-padded decimal number.                                                                                                                            | 7                        |\n",
    "| %-H  | Hour (24-hour clock) as a decimal number. (Platform specific)                                                                                                                    | 7                        |\n",
    "| %I   | Hour (12-hour clock) as a zero-padded decimal number.                                                                                                                            | 7                        |\n",
    "| %-I  | Hour (12-hour clock) as a decimal number. (Platform specific)                                                                                                                    | 7                        |\n",
    "| %p   | Locale’s equivalent of either AM or PM.                                                                                                                                          | AM                       |\n",
    "| %M   | Minute as a zero-padded decimal number.                                                                                                                                          | 6                        |\n",
    "| %-M  | Minute as a decimal number. (Platform specific)                                                                                                                                  | 6                        |\n",
    "| %S   | Second as a zero-padded decimal number.                                                                                                                                          | 5                        |\n",
    "| %-S  | Second as a decimal number. (Platform specific)                                                                                                                                  | 5                        |\n",
    "| %f   | Microsecond as a decimal number, zero-padded on the left.                                                                                                                        | 0                        |\n",
    "| %z   | UTC offset in the form +HHMM or -HHMM (empty string if the the object is naive).                                                                                                 |                          |\n",
    "| %Z   | Time zone name (empty string if the object is naive).                                                                                                                            |                          |\n",
    "| %j   | Day of the year as a zero-padded decimal number.                                                                                                                                 | 273                      |\n",
    "| %-j  | Day of the year as a decimal number. (Platform specific)                                                                                                                         | 273                      |\n",
    "| %U   | Week number of the year (Sunday as the first day of the week) as a zero padded decimal number. All days in a new year preceding the first Sunday are considered to be in week 0. | 39                       |\n",
    "| %W   | Week number of the year (Monday as the first day of the week) as a decimal number. All days in a new year preceding the first Monday are considered to be in week 0.             | 39                       |\n",
    "| %c   | Locale’s appropriate date and time representation.                                                                                                                               | Mon Sep 30 07:06:05 2013 |\n",
    "| %x   | Locale’s appropriate date representation.                                                                                                                                        | 9/30/2013                |\n",
    "| %X   | Locale’s appropriate time representation.                                                                                                                                        | 7:06:05                  |\n",
    "| %%   | A literal '%' character.                                                                                                                                                         | %                        |"
   ]
  },
  {
   "cell_type": "code",
   "execution_count": null,
   "metadata": {},
   "outputs": [],
   "source": []
  },
  {
   "cell_type": "code",
   "execution_count": null,
   "metadata": {},
   "outputs": [],
   "source": []
  }
 ],
 "metadata": {
  "kernelspec": {
   "display_name": "Python 3",
   "language": "python",
   "name": "python3"
  },
  "language_info": {
   "codemirror_mode": {
    "name": "ipython",
    "version": 3
   },
   "file_extension": ".py",
   "mimetype": "text/x-python",
   "name": "python",
   "nbconvert_exporter": "python",
   "pygments_lexer": "ipython3",
   "version": "3.7.7"
  }
 },
 "nbformat": 4,
 "nbformat_minor": 4
}
