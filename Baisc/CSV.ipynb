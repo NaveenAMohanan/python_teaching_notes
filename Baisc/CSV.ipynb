{
 "cells": [
  {
   "cell_type": "markdown",
   "metadata": {},
   "source": [
    "# Everything CSV "
   ]
  },
  {
   "cell_type": "code",
   "execution_count": 2,
   "metadata": {},
   "outputs": [],
   "source": [
    "# Two wasys of writing and reading CSV\n",
    "# one is to use dict\n",
    "# second is to use list \n",
    "import csv"
   ]
  },
  {
   "cell_type": "markdown",
   "metadata": {},
   "source": [
    "## Writing CSV using dict "
   ]
  },
  {
   "cell_type": "code",
   "execution_count": 3,
   "metadata": {},
   "outputs": [
    {
     "name": "stdout",
     "output_type": "stream",
     "text": [
      "Done writing csv \n"
     ]
    }
   ],
   "source": [
    "# dict writer create file and write \n",
    "with open('names.csv', 'w', newline='') as csvfile: # for append use a\n",
    "    csv_columns = ['first_name', 'last_name']\n",
    "    writer = csv.DictWriter(csvfile, fieldnames=csv_columns)\n",
    "    writer.writeheader() # for append remove this\n",
    "\n",
    "    dict_data = [{'first_name': 'Baked', 'last_name': 'Beans'},# list of dict , dicts having same header\n",
    "                {'first_name': 'Lovely', 'last_name': 'Spam'},\n",
    "                {'first_name': 'Wonderful', 'last_name': 'Spam'}]\n",
    "    \n",
    "    writer.writerows(dict_data) # list of dicts write directly\n",
    "print('Done writing csv ')\n",
    "\n"
   ]
  },
  {
   "cell_type": "markdown",
   "metadata": {},
   "source": [
    "## Writing CSV using dict line by line - appending "
   ]
  },
  {
   "cell_type": "code",
   "execution_count": 6,
   "metadata": {},
   "outputs": [
    {
     "name": "stdout",
     "output_type": "stream",
     "text": [
      "Done writing csv \n"
     ]
    }
   ],
   "source": [
    "# dict writer appending the data \n",
    "with open('names.csv', 'a', newline='') as csvfile: # for append use a\n",
    "    csv_columns = ['first_name', 'last_name']\n",
    "    writer = csv.DictWriter(csvfile, fieldnames=csv_columns)\n",
    "#     writer.writeheader() # for append remove this\n",
    "\n",
    "    dict_data = [{'first_name': '2Baked2', 'last_name': 'Beans'},# list of dict , dicts having same header\n",
    "                {'first_name': '2Lovely2', 'last_name': 'Spam'},\n",
    "                {'first_name': '2Wonderful2', 'last_name': 'Spam'}]\n",
    "    \n",
    "    for data in dict_data:\n",
    "        writer.writerow(data)# writing row by row\n",
    "#     writer.writerows(dict_data) # list of dicts write directly\n",
    "print('Done writing csv ')"
   ]
  },
  {
   "cell_type": "markdown",
   "metadata": {},
   "source": [
    "## Reading CSV using dict "
   ]
  },
  {
   "cell_type": "code",
   "execution_count": 9,
   "metadata": {},
   "outputs": [
    {
     "name": "stdout",
     "output_type": "stream",
     "text": [
      "headers =  ['first_name', 'last_name']\n",
      "OrderedDict([('first_name', 'Baked'), ('last_name', 'Beans')])\n",
      "OrderedDict([('first_name', 'Lovely'), ('last_name', 'Spam')])\n",
      "OrderedDict([('first_name', 'Wonderful'), ('last_name', 'Spam')])\n",
      "OrderedDict([('first_name', '2Baked2'), ('last_name', 'Beans')])\n",
      "OrderedDict([('first_name', '2Lovely2'), ('last_name', 'Spam')])\n",
      "OrderedDict([('first_name', '2Wonderful2'), ('last_name', 'Spam')])\n",
      "OrderedDict([('first_name', 'list_first_name'), ('last_name', 'list_first_name')])\n",
      "OrderedDict([('first_name', 'list_second_name'), ('last_name', 'list_secound_name')])\n",
      "OrderedDict([('first_name', 'list_third_name'), ('last_name', 'list_third_name')])\n"
     ]
    }
   ],
   "source": [
    "with open('names.csv', newline='') as csvfile: # for append use a\n",
    "    reader = csv.DictReader(csvfile)\n",
    "    headers = reader.fieldnames\n",
    "    \n",
    "    print(\"headers = \",headers)\n",
    "    \n",
    "    for row in reader:\n",
    "        print(row)"
   ]
  },
  {
   "cell_type": "markdown",
   "metadata": {},
   "source": [
    "## Writing csv using list cmpt and line by line "
   ]
  },
  {
   "cell_type": "code",
   "execution_count": 8,
   "metadata": {},
   "outputs": [],
   "source": [
    "with open('names.csv', 'a', newline='') as csvfile: # for append use a\n",
    "    spamwriter = csv.writer(csvfile)\n",
    "    spamwriter.writerow(['list_first_name','list_first_name']) # use this for line by line \n",
    "    spamwriter.writerows([\n",
    "        ['list_second_name','list_secound_name'],\n",
    "        ['list_third_name','list_third_name']\n",
    "    ]) # use this to write in bulk"
   ]
  },
  {
   "cell_type": "markdown",
   "metadata": {},
   "source": [
    "## Reading csv using list "
   ]
  },
  {
   "cell_type": "code",
   "execution_count": 17,
   "metadata": {},
   "outputs": [
    {
     "name": "stdout",
     "output_type": "stream",
     "text": [
      "headers =  ['first_name', 'last_name']\n",
      "['Baked', 'Beans']\n",
      "['Lovely', 'Spam']\n",
      "['Wonderful', 'Spam']\n",
      "['2Baked2', 'Beans']\n",
      "['2Lovely2', 'Spam']\n",
      "['2Wonderful2', 'Spam']\n",
      "['list_first_name', 'list_first_name']\n",
      "['list_second_name', 'list_secound_name']\n",
      "['list_third_name', 'list_third_name']\n"
     ]
    }
   ],
   "source": [
    "with open('names.csv', newline='') as csvfile: # for append use a\n",
    "    reader = csv.reader(csvfile)\n",
    "    \n",
    "    headers = next(reader)\n",
    "    print(\"headers = \",headers)\n",
    "    \n",
    "    for row in reader:\n",
    "        print(row)"
   ]
  },
  {
   "cell_type": "code",
   "execution_count": null,
   "metadata": {},
   "outputs": [],
   "source": []
  }
 ],
 "metadata": {
  "kernelspec": {
   "display_name": "Python 3",
   "language": "python",
   "name": "python3"
  },
  "language_info": {
   "codemirror_mode": {
    "name": "ipython",
    "version": 3
   },
   "file_extension": ".py",
   "mimetype": "text/x-python",
   "name": "python",
   "nbconvert_exporter": "python",
   "pygments_lexer": "ipython3",
   "version": "3.7.7"
  }
 },
 "nbformat": 4,
 "nbformat_minor": 4
}
