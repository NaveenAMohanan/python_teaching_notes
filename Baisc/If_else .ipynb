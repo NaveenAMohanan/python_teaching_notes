{
 "cells": [
  {
   "cell_type": "code",
   "execution_count": 11,
   "metadata": {},
   "outputs": [],
   "source": [
    "if bool():\n",
    "    print(\"if rxpression is true \")"
   ]
  },
  {
   "cell_type": "code",
   "execution_count": 12,
   "metadata": {},
   "outputs": [
    {
     "name": "stdout",
     "output_type": "stream",
     "text": [
      "bool(True) :  True\n",
      "bool([1]) :  True\n",
      "bool('A') :  True\n",
      "bool(False) :  False\n",
      "bool([]) :  False\n",
      "bool() :  False\n"
     ]
    }
   ],
   "source": [
    "bool() # build in data type having value true and false \n",
    "print(\"bool(True) : \",bool(True))\n",
    "print(\"bool([1]) : \",bool([1]))\n",
    "print(\"bool('A') : \",bool(\"A\"))\n",
    "\n",
    "print(\"bool(False) : \",bool(False))\n",
    "print(\"bool([]) : \",bool([]))\n",
    "print(\"bool(\"\") : \",bool(\"\"))"
   ]
  },
  {
   "cell_type": "code",
   "execution_count": 14,
   "metadata": {},
   "outputs": [
    {
     "name": "stdout",
     "output_type": "stream",
     "text": [
      "if bool true then this is executed \n"
     ]
    }
   ],
   "source": [
    "if bool(True):\n",
    "    print(\"if bool true then this is executed \")\n",
    "else:\n",
    "    print(\" if bool flase then this is executed\")"
   ]
  },
  {
   "cell_type": "markdown",
   "metadata": {},
   "source": [
    "## Nested if else \n"
   ]
  },
  {
   "cell_type": "code",
   "execution_count": 16,
   "metadata": {},
   "outputs": [
    {
     "name": "stdout",
     "output_type": "stream",
     "text": [
      "<20 \n"
     ]
    }
   ],
   "source": [
    "h = 10 \n",
    "if h > 50: \n",
    "    print(\" > 50 \")\n",
    "else : \n",
    "    if h < 20: \n",
    "        print(\"<20 \")\n",
    "    else: \n",
    "        print(\" btw 20 & 50 \")"
   ]
  },
  {
   "cell_type": "code",
   "execution_count": 19,
   "metadata": {},
   "outputs": [
    {
     "name": "stdout",
     "output_type": "stream",
     "text": [
      " btw 20 & 50 \n"
     ]
    }
   ],
   "source": [
    "# write this as \n",
    "h = 30 \n",
    "if h > 50: \n",
    "    print(\" > 50 \")\n",
    "elif h < 20: \n",
    "    print(\"<20 \")\n",
    "else: \n",
    "     print(\" btw 20 & 50 \")"
   ]
  },
  {
   "cell_type": "markdown",
   "metadata": {},
   "source": [
    "## Conditional epression (single line) \n"
   ]
  },
  {
   "cell_type": "code",
   "execution_count": 21,
   "metadata": {},
   "outputs": [
    {
     "name": "stdout",
     "output_type": "stream",
     "text": [
      "<50 \n"
     ]
    }
   ],
   "source": [
    "\"\"\"if condition : \n",
    "    result = true \n",
    "else : \n",
    "    result = flase \n",
    "    \n",
    "result = true if condition else flase \n",
    "\"\"\"\n",
    "\n",
    "h = 10 \n",
    "print(\">50\") if h > 50 else print(\"<50 \")"
   ]
  },
  {
   "cell_type": "code",
   "execution_count": null,
   "metadata": {},
   "outputs": [],
   "source": []
  }
 ],
 "metadata": {
  "kernelspec": {
   "display_name": "Python 3",
   "language": "python",
   "name": "python3"
  },
  "language_info": {
   "codemirror_mode": {
    "name": "ipython",
    "version": 3
   },
   "file_extension": ".py",
   "mimetype": "text/x-python",
   "name": "python",
   "nbconvert_exporter": "python",
   "pygments_lexer": "ipython3",
   "version": "3.7.7"
  }
 },
 "nbformat": 4,
 "nbformat_minor": 4
}
